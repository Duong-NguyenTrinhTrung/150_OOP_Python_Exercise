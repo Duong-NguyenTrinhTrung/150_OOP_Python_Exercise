{
  "nbformat": 4,
  "nbformat_minor": 0,
  "metadata": {
    "colab": {
      "name": "Ex-Section3-6.ipynb",
      "provenance": [],
      "authorship_tag": "ABX9TyOghLwLkG6sRO5F8tbIujO/",
      "include_colab_link": true
    },
    "kernelspec": {
      "name": "python3",
      "display_name": "Python 3"
    },
    "language_info": {
      "name": "python"
    }
  },
  "cells": [
    {
      "cell_type": "markdown",
      "metadata": {
        "id": "view-in-github",
        "colab_type": "text"
      },
      "source": [
        "<a href=\"https://colab.research.google.com/github/Duong-NguyenTrinhTrung/150_OOP_Python_Exercise/blob/main/Ex_Section3_6.ipynb\" target=\"_parent\"><img src=\"https://colab.research.google.com/assets/colab-badge.svg\" alt=\"Open In Colab\"/></a>"
      ]
    },
    {
      "cell_type": "markdown",
      "source": [
        "### Ex1 - Print the Python version to the console"
      ],
      "metadata": {
        "id": "cXufq-lCh-_m"
      }
    },
    {
      "cell_type": "code",
      "execution_count": 3,
      "metadata": {
        "colab": {
          "base_uri": "https://localhost:8080/"
        },
        "id": "DKCugOhzfd84",
        "outputId": "5e0bbbde-2548-4dd0-f474-eaff995613f5"
      },
      "outputs": [
        {
          "output_type": "stream",
          "name": "stdout",
          "text": [
            "3.7.13\n"
          ]
        }
      ],
      "source": [
        "import sys\n",
        "# print(sys.version)\n",
        "print(sys.version.split()[0])"
      ]
    }
  ]
}