{
  "nbformat": 4,
  "nbformat_minor": 0,
  "metadata": {
    "colab": {
      "name": "Ex-Section3-6.ipynb",
      "provenance": [],
      "collapsed_sections": [],
      "authorship_tag": "ABX9TyNRvqNrEBzbkTpUEjtzmGKO",
      "include_colab_link": true
    },
    "kernelspec": {
      "name": "python3",
      "display_name": "Python 3"
    },
    "language_info": {
      "name": "python"
    }
  },
  "cells": [
    {
      "cell_type": "markdown",
      "metadata": {
        "id": "view-in-github",
        "colab_type": "text"
      },
      "source": [
        "<a href=\"https://colab.research.google.com/github/Duong-NguyenTrinhTrung/150_OOP_Python_Exercise/blob/main/Ex_Section3_6.ipynb\" target=\"_parent\"><img src=\"https://colab.research.google.com/assets/colab-badge.svg\" alt=\"Open In Colab\"/></a>"
      ]
    },
    {
      "cell_type": "markdown",
      "source": [
        "### Ex1 - Print the Python version to the console"
      ],
      "metadata": {
        "id": "cXufq-lCh-_m"
      }
    },
    {
      "cell_type": "code",
      "execution_count": 3,
      "metadata": {
        "colab": {
          "base_uri": "https://localhost:8080/"
        },
        "id": "DKCugOhzfd84",
        "outputId": "5e0bbbde-2548-4dd0-f474-eaff995613f5"
      },
      "outputs": [
        {
          "output_type": "stream",
          "name": "stdout",
          "text": [
            "3.7.13\n"
          ]
        }
      ],
      "source": [
        "import sys\n",
        "# print(sys.version)\n",
        "print(sys.version.split()[0])"
      ]
    },
    {
      "cell_type": "markdown",
      "source": [
        "### Ex2 - Import the datetime built-in module and display the namespace of this module, in a sorted order"
      ],
      "metadata": {
        "id": "suLuHfHtjA66"
      }
    },
    {
      "cell_type": "code",
      "source": [
        "import datetime\n",
        "# print(datetime.__dict__)\n",
        "for name in sorted(datetime.__dict__):\n",
        "  print(name)"
      ],
      "metadata": {
        "id": "7zan1wL_jKIt"
      },
      "execution_count": null,
      "outputs": []
    },
    {
      "cell_type": "markdown",
      "source": [
        "### Ex3: Display the namespace of the class Product shown below:"
      ],
      "metadata": {
        "id": "O-ps0gTwjzRi"
      }
    },
    {
      "cell_type": "code",
      "source": [
        "import uuid\n",
        "\n",
        "class Product:\n",
        "\n",
        "    def __init__(self, product_name, price):\n",
        "        self.product_id = self.get_id()\n",
        "        self.product_name = product_name\n",
        "        self.price = price\n",
        "\n",
        "    def __repr__(self):\n",
        "        return f\"Product(product_name='{self.product_name}', price={self.price})\"\n",
        "\n",
        "    @staticmethod\n",
        "    def get_id():\n",
        "        return str(uuid.uuid4().fields[-1])[:6]\n",
        "\n",
        "for name in Product.__dict__:\n",
        "  print(name)"
      ],
      "metadata": {
        "colab": {
          "base_uri": "https://localhost:8080/"
        },
        "id": "rAW_VJ4nrled",
        "outputId": "66e917eb-74e8-44d4-d5fc-75418440e4b7"
      },
      "execution_count": 8,
      "outputs": [
        {
          "output_type": "stream",
          "name": "stdout",
          "text": [
            "__module__\n",
            "__init__\n",
            "__repr__\n",
            "get_id\n",
            "__dict__\n",
            "__weakref__\n",
            "__doc__\n"
          ]
        }
      ]
    },
    {
      "cell_type": "markdown",
      "source": [
        "### Ex4: display the namespace of an instance of class Product"
      ],
      "metadata": {
        "id": "-ZWGZe-JsKKx"
      }
    },
    {
      "cell_type": "code",
      "source": [
        "p = Product(\"Soap\", 10)\n",
        "for name in p.__dict__:\n",
        "  print(name)"
      ],
      "metadata": {
        "colab": {
          "base_uri": "https://localhost:8080/"
        },
        "id": "7CiMHhHdsRYi",
        "outputId": "cdf9417f-88e3-4af4-d505-5454657b0131"
      },
      "execution_count": 10,
      "outputs": [
        {
          "output_type": "stream",
          "name": "stdout",
          "text": [
            "product_id\n",
            "product_name\n",
            "price\n"
          ]
        }
      ]
    },
    {
      "cell_type": "markdown",
      "source": [
        "### Ex5: display the names of all arguments of a function"
      ],
      "metadata": {
        "id": "1uSkJYeJsxZg"
      }
    },
    {
      "cell_type": "code",
      "source": [
        "def stock_info(company, country, price, currency):\n",
        "    return f'Company: {company}\\nCountry: {country}\\nPrice: {currency} {price}'\n",
        "\n",
        "print(stock_info.__code__.co_varnames)"
      ],
      "metadata": {
        "colab": {
          "base_uri": "https://localhost:8080/"
        },
        "id": "EONDlrnlGapu",
        "outputId": "b54f6d53-c574-4c7b-b38f-75d67ed9185c"
      },
      "execution_count": 16,
      "outputs": [
        {
          "output_type": "stream",
          "name": "stdout",
          "text": [
            "('company', 'country', 'price', 'currency')\n"
          ]
        }
      ]
    },
    {
      "cell_type": "markdown",
      "source": [
        "### Ex6: Display the documentation of the sum() function of the builtin module"
      ],
      "metadata": {
        "id": "92lwhZonHXNu"
      }
    },
    {
      "cell_type": "code",
      "source": [
        "    import builtins\n",
        "     \n",
        "    help(sum)\n",
        "    print(sum([-4, 3, 2]))"
      ],
      "metadata": {
        "colab": {
          "base_uri": "https://localhost:8080/"
        },
        "id": "6WXddltmHboN",
        "outputId": "1c9c8a83-ee83-4833-86fe-2a0f043b736c"
      },
      "execution_count": 20,
      "outputs": [
        {
          "output_type": "stream",
          "name": "stdout",
          "text": [
            "Help on built-in function sum in module builtins:\n",
            "\n",
            "sum(iterable, start=0, /)\n",
            "    Return the sum of a 'start' value (default: 0) plus an iterable of numbers\n",
            "    \n",
            "    When the iterable is empty, return the start value.\n",
            "    This function is intended specifically for use with numeric values and may\n",
            "    reject non-numeric types.\n",
            "\n",
            "1\n"
          ]
        }
      ]
    },
    {
      "cell_type": "markdown",
      "source": [
        "### Ex7: using global variable to get updated counter"
      ],
      "metadata": {
        "id": "0Mt7GIKhHvNu"
      }
    },
    {
      "cell_type": "code",
      "source": [
        "counter = 1\n",
        "\n",
        "def update_counter():\n",
        "    global counter\n",
        "    counter += 1\n",
        "    print(counter)\n",
        "\n",
        "update_counter()\n",
        "update_counter()\n",
        "update_counter()"
      ],
      "metadata": {
        "colab": {
          "base_uri": "https://localhost:8080/"
        },
        "id": "CJkBQgXxIDJz",
        "outputId": "86e2e462-838b-4048-d1d0-b68401232968"
      },
      "execution_count": 22,
      "outputs": [
        {
          "output_type": "stream",
          "name": "stdout",
          "text": [
            "2\n",
            "3\n",
            "4\n"
          ]
        }
      ]
    },
    {
      "cell_type": "markdown",
      "source": [
        "### Ex8: using global variable\n"
      ],
      "metadata": {
        "id": "uS4zF_o0Iazn"
      }
    },
    {
      "cell_type": "code",
      "source": [
        "counter = 0\n",
        "dot_counter = ''\n",
        "\n",
        "def update_counter():\n",
        "    global counter\n",
        "    global dot_counter\n",
        "    counter += 1\n",
        "    dot_counter += '.'\n",
        "\n",
        "# for i in range(40):\n",
        "#   update_counter()\n",
        "\n",
        "[update_counter() for _ in range(40)]\n",
        "\n",
        "print(counter)\n",
        "print(dot_counter)"
      ],
      "metadata": {
        "colab": {
          "base_uri": "https://localhost:8080/"
        },
        "id": "ftHRXq2YIZ0L",
        "outputId": "903adca9-ba35-4bd4-c86c-7071bb8de15e"
      },
      "execution_count": 23,
      "outputs": [
        {
          "output_type": "stream",
          "name": "stdout",
          "text": [
            "40\n",
            "........................................\n"
          ]
        }
      ]
    },
    {
      "cell_type": "markdown",
      "source": [
        "### Ex9: using nonlocal variable"
      ],
      "metadata": {
        "id": "C-WbWUlzJESM"
      }
    },
    {
      "cell_type": "code",
      "source": [
        "def display_info(number_of_updates=1):\n",
        "    counter = 100\n",
        "    dot_counter = ''\n",
        "\n",
        "    def update_counter():\n",
        "        nonlocal counter, dot_counter\n",
        "        counter += 1\n",
        "        dot_counter += '.'\n",
        "       \n",
        "    \n",
        "    [update_counter() for _ in range(number_of_updates)]\n",
        "\n",
        "    print(counter)\n",
        "    print(dot_counter)\n",
        "\n",
        "display_info(10)"
      ],
      "metadata": {
        "colab": {
          "base_uri": "https://localhost:8080/"
        },
        "id": "uVh1VqUNJd_6",
        "outputId": "d0c27059-6c41-4d68-c8ef-62e73a0f7941"
      },
      "execution_count": 30,
      "outputs": [
        {
          "output_type": "stream",
          "name": "stdout",
          "text": [
            "110\n",
            "..........\n"
          ]
        }
      ]
    },
    {
      "cell_type": "markdown",
      "source": [
        "### Ex10: "
      ],
      "metadata": {
        "id": "YHg29OcvPEQC"
      }
    },
    {
      "cell_type": "code",
      "source": [
        ""
      ],
      "metadata": {
        "id": "VHxoZtUxN0HY"
      },
      "execution_count": null,
      "outputs": []
    }
  ]
}